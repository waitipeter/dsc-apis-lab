{
 "cells": [
  {
   "cell_type": "markdown",
   "metadata": {},
   "source": [
    "# APIs - Cumulative Lab\n",
    "\n",
    "\n",
    "## Introduction \n",
    "\n",
    "We've seen how the Yelp API works and how to create basic visualizations using Folium. It's time to put those skills to work in order to create a working map! Taking things a step further, you'll also independently explore how to perform pagination in order to retrieve a full results set from the Yelp API.\n",
    "\n",
    "## Objectives\n",
    "\n",
    "You will be able to: \n",
    "\n",
    "* Practice using functions to organize your code\n",
    "* Use pagination to retrieve all results from an API query\n",
    "* Practice parsing data returned from an API query\n",
    "* Practice interpreting visualizations of a dataset\n",
    "* Create maps using Folium"
   ]
  },
  {
   "cell_type": "markdown",
   "metadata": {},
   "source": [
    "## Your Task: Query Yelp for All Businesses in a Category and Analyze the Results\n",
    "\n",
    "![restaurant counter with pizza](images/restaurant_counter.jpg)\n",
    "\n",
    "Photo by <a href=\"https://unsplash.com/@jordanmadrid?utm_source=unsplash&utm_medium=referral&utm_content=creditCopyText\">Jordan Madrid</a> on <a href=\"/s/photos/pizza-restaurant?utm_source=unsplash&utm_medium=referral&utm_content=creditCopyText\">Unsplash</a>"
   ]
  },
  {
   "cell_type": "markdown",
   "metadata": {},
   "source": [
    "### Overview\n",
    "\n",
    "You've now worked with some API calls, but we have yet to see how to retrieve a more complete dataset in a programmatic manner. In this lab, you will write a query of businesses on Yelp, then use *pagination* to retrieve all possible results for that query. Then you will create a summary of your findings, including a Folium map of the geographic locations of those businesses.\n",
    "\n",
    "### Technical Details\n",
    "\n",
    "Returning to the Yelp API, the [documentation](https://www.yelp.com/developers/documentation/v3/business_search) also provides us details regarding the **API limits**. These often include details about the number of requests a user is allowed to make within a specified time limit and the maximum number of results to be returned. In this case, we are told that any request has a **maximum of 50 results per request** and defaults to 20. Furthermore, any search will be limited to a **total of 1000 results**. To retrieve all 1000 of these results, we would have to page through the results piece by piece, retrieving 50 at a time. Processes such as these are often referred to as pagination.\n",
    "\n",
    "Also, be mindful of the **API** ***rate*** **limits**. You can only make **5000 requests per day** and are also can make requests too fast. Start prototyping small before running a loop that could be faulty. You can also use `time.sleep(n)` to add delays. For more details see https://www.yelp.com/developers/documentation/v3/rate_limiting.\n",
    "\n",
    "In this lab, you will define a search and then paginate over the results to retrieve all of the results. You'll then parse these responses as a list of dictionaries (for further exploration) and create a map using Folium to visualize the results geographically.\n",
    "\n",
    "### Requirements\n",
    "\n",
    "#### 1. Make the Initial Request\n",
    "\n",
    "Start by filling in your API key to make the initial request to the business search API. Investigate the structure of the response you get back and start figuring out how you will extract the relevant information.\n",
    "\n",
    "#### 2. Add Pagination\n",
    "\n",
    "Using loops and functions, collect the maximum number of results for your query from the API.\n",
    "\n",
    "#### 3. Perform Exploratory Analysis\n",
    "\n",
    "Interpret visualizations related to the price range, average rating, and number of reviews for all query results.\n",
    "\n",
    "#### 4. Create a Folium Map\n",
    "\n",
    "Using latitude and longitude data, plot the query results on an interactive map."
   ]
  },
  {
   "cell_type": "markdown",
   "metadata": {},
   "source": [
    "## 1. Make the Initial Request\n",
    "\n",
    "### Querying\n",
    "\n",
    "Start by making an initial request to the Yelp API. Your search must include at least 2 parameters: **term** and **location**. For example, you might search for pizza restaurants in NYC. The term and location is up to you but make the request below.\n",
    "\n",
    "Use the `requests` library ([documentation here](https://requests.readthedocs.io/en/master/user/quickstart/#make-a-request)).\n",
    "\n",
    "You'll also need an API key from Yelp. If you haven't done this already, go to the Yelp [Manage App page](https://www.yelp.com/developers/v3/manage_app) and create a new app (after making an account if you haven't already)."
   ]
  },
  {
   "cell_type": "code",
   "execution_count": 1,
   "metadata": {},
   "outputs": [
    {
     "data": {
      "text/plain": [
       "<Response [200]>"
      ]
     },
     "execution_count": 1,
     "metadata": {},
     "output_type": "execute_result"
    }
   ],
   "source": [
    "# Replace None with appropriate code\n",
    "\n",
    "# Import the requests library\n",
    "import requests\n",
    "\n",
    "# Get this from the \"Manage App\" page. Make sure you set them\n",
    "# back to None before pushing this to GitHub, since otherwise\n",
    "# your credentials will be compromised\n",
    "api_key =  \"_7__ZXjhVkh-ADvK29MgOuVGGxYeGOdgT1g5c4HkB3Jp8otYIGgMBW1Bh5JMZjs0DnBV2GGyiq2Pdf_kvGJEc77ZLbjmMiuxBGff4O211K0HBISZDNL7q_i_3nJ7YnYx\"\n",
    "\n",
    "\n",
    "# These can be whatever you want! But the solution uses \"pizza\"\n",
    "# and \"New York NY\" if you want to compare your work directly\n",
    "term = \"pizza\"\n",
    "location = \"New York NY\"\n",
    "\n",
    "# Set up params for request\n",
    "url = \"https://api.yelp.com/v3/businesses/search\"\n",
    "headers = {\n",
    "    \"Authorization\": \"Bearer {}\".format(api_key)\n",
    "}\n",
    "url_params = {\n",
    "    \"term\": term.replace(\" \", \"+\"),\n",
    "    \"location\": location.replace(\" \", \"+\")\n",
    "}\n",
    "\n",
    "# Make the request using requests.get, passing in\n",
    "# url, headers=headers, and params=url_params\n",
    "response = requests.get(url,headers=headers, params=url_params)\n",
    "\n",
    "# Confirm we got a 200 response\n",
    "response"
   ]
  },
  {
   "cell_type": "code",
   "execution_count": 2,
   "metadata": {},
   "outputs": [
    {
     "data": {
      "text/plain": [
       "dict_keys(['businesses', 'total', 'region'])"
      ]
     },
     "execution_count": 2,
     "metadata": {},
     "output_type": "execute_result"
    }
   ],
   "source": [
    "# Run this cell without changes\n",
    "\n",
    "# Get the response body in JSON format\n",
    "response_json = response.json()\n",
    "# View the keys\n",
    "response_json.keys()"
   ]
  },
  {
   "cell_type": "markdown",
   "metadata": {},
   "source": [
    "### Extracting Data\n",
    "\n",
    "Now, retrieve the value associated with the `'businesses'` key, and inspect its contents."
   ]
  },
  {
   "cell_type": "code",
   "execution_count": 3,
   "metadata": {},
   "outputs": [
    {
     "data": {
      "text/plain": [
       "[{'id': 'zj8Lq1T8KIC5zwFief15jg',\n",
       "  'alias': 'prince-street-pizza-new-york-2',\n",
       "  'name': 'Prince Street Pizza',\n",
       "  'image_url': 'https://s3-media3.fl.yelpcdn.com/bphoto/ZAukOyv530w4KjOHC5YY1w/o.jpg',\n",
       "  'is_closed': False,\n",
       "  'url': 'https://www.yelp.com/biz/prince-street-pizza-new-york-2?adjust_creative=IgUMdcaxlIRE0iOxNnyLnQ&utm_campaign=yelp_api_v3&utm_medium=api_v3_business_search&utm_source=IgUMdcaxlIRE0iOxNnyLnQ',\n",
       "  'review_count': 4305,\n",
       "  'categories': [{'alias': 'pizza', 'title': 'Pizza'},\n",
       "   {'alias': 'italian', 'title': 'Italian'}],\n",
       "  'rating': 4.5,\n",
       "  'coordinates': {'latitude': 40.72308755605564,\n",
       "   'longitude': -73.99453001177575},\n",
       "  'transactions': ['delivery', 'pickup'],\n",
       "  'price': '$',\n",
       "  'location': {'address1': '27 Prince St',\n",
       "   'address2': None,\n",
       "   'address3': '',\n",
       "   'city': 'New York',\n",
       "   'zip_code': '10012',\n",
       "   'country': 'US',\n",
       "   'state': 'NY',\n",
       "   'display_address': ['27 Prince St', 'New York, NY 10012']},\n",
       "  'phone': '+12129664100',\n",
       "  'display_phone': '(212) 966-4100',\n",
       "  'distance': 1961.8771417367063},\n",
       " {'id': 'ysqgdbSrezXgVwER2kQWKA',\n",
       "  'alias': 'julianas-brooklyn-3',\n",
       "  'name': \"Juliana's\",\n",
       "  'image_url': 'https://s3-media2.fl.yelpcdn.com/bphoto/clscwgOF9_Ecq-Rwsq7jyQ/o.jpg',\n",
       "  'is_closed': False,\n",
       "  'url': 'https://www.yelp.com/biz/julianas-brooklyn-3?adjust_creative=IgUMdcaxlIRE0iOxNnyLnQ&utm_campaign=yelp_api_v3&utm_medium=api_v3_business_search&utm_source=IgUMdcaxlIRE0iOxNnyLnQ',\n",
       "  'review_count': 2431,\n",
       "  'categories': [{'alias': 'pizza', 'title': 'Pizza'}],\n",
       "  'rating': 4.5,\n",
       "  'coordinates': {'latitude': 40.70274718768062,\n",
       "   'longitude': -73.99343490196397},\n",
       "  'transactions': ['delivery'],\n",
       "  'price': '$$',\n",
       "  'location': {'address1': '19 Old Fulton St',\n",
       "   'address2': '',\n",
       "   'address3': '',\n",
       "   'city': 'Brooklyn',\n",
       "   'zip_code': '11201',\n",
       "   'country': 'US',\n",
       "   'state': 'NY',\n",
       "   'display_address': ['19 Old Fulton St', 'Brooklyn, NY 11201']},\n",
       "  'phone': '+17185966700',\n",
       "  'display_phone': '(718) 596-6700',\n",
       "  'distance': 308.56984360837544}]"
      ]
     },
     "execution_count": 3,
     "metadata": {},
     "output_type": "execute_result"
    }
   ],
   "source": [
    "# Replace None with appropriate code\n",
    "\n",
    "# Retrieve the value from response_json\n",
    "businesses = response_json[\"businesses\"]\n",
    "\n",
    "# View the first 2 records\n",
    "businesses[:2]"
   ]
  },
  {
   "cell_type": "markdown",
   "metadata": {},
   "source": [
    "### Preparing Data\n",
    "\n",
    "Write a function `prepare_data` that takes in a list of dictionaries like `businesses` and returns a copy that has been prepared for analysis:\n",
    "\n",
    "1. The `coordinates` key-value pair has been converted into two separate key-value pairs, `latitude` and `longitude`\n",
    "2. All other key-value pairs except for `name`, `review_count`, `rating`, and `price` have been dropped\n",
    "3. All dictionaries missing one of the relevant keys or containing null values have been dropped\n",
    "\n",
    "In other words, the final keys for each dictionary should be `name`, `review_count`, `rating`, `price`, `latitude`, and `longitude`.\n",
    "\n",
    "Complete the function in the cell below:"
   ]
  },
  {
   "cell_type": "code",
   "execution_count": 4,
   "metadata": {},
   "outputs": [
    {
     "data": {
      "text/plain": [
       "[{'id': 'zj8Lq1T8KIC5zwFief15jg',\n",
       "  'alias': 'prince-street-pizza-new-york-2',\n",
       "  'name': 'Prince Street Pizza',\n",
       "  'image_url': 'https://s3-media3.fl.yelpcdn.com/bphoto/ZAukOyv530w4KjOHC5YY1w/o.jpg',\n",
       "  'is_closed': False,\n",
       "  'url': 'https://www.yelp.com/biz/prince-street-pizza-new-york-2?adjust_creative=IgUMdcaxlIRE0iOxNnyLnQ&utm_campaign=yelp_api_v3&utm_medium=api_v3_business_search&utm_source=IgUMdcaxlIRE0iOxNnyLnQ',\n",
       "  'review_count': 4305,\n",
       "  'categories': [{'alias': 'pizza', 'title': 'Pizza'},\n",
       "   {'alias': 'italian', 'title': 'Italian'}],\n",
       "  'rating': 4.5,\n",
       "  'coordinates': {'latitude': 40.72308755605564,\n",
       "   'longitude': -73.99453001177575},\n",
       "  'transactions': ['delivery', 'pickup'],\n",
       "  'price': '$',\n",
       "  'location': {'address1': '27 Prince St',\n",
       "   'address2': None,\n",
       "   'address3': '',\n",
       "   'city': 'New York',\n",
       "   'zip_code': '10012',\n",
       "   'country': 'US',\n",
       "   'state': 'NY',\n",
       "   'display_address': ['27 Prince St', 'New York, NY 10012']},\n",
       "  'phone': '+12129664100',\n",
       "  'display_phone': '(212) 966-4100',\n",
       "  'distance': 1961.8771417367063},\n",
       " {'id': 'ysqgdbSrezXgVwER2kQWKA',\n",
       "  'alias': 'julianas-brooklyn-3',\n",
       "  'name': \"Juliana's\",\n",
       "  'image_url': 'https://s3-media2.fl.yelpcdn.com/bphoto/clscwgOF9_Ecq-Rwsq7jyQ/o.jpg',\n",
       "  'is_closed': False,\n",
       "  'url': 'https://www.yelp.com/biz/julianas-brooklyn-3?adjust_creative=IgUMdcaxlIRE0iOxNnyLnQ&utm_campaign=yelp_api_v3&utm_medium=api_v3_business_search&utm_source=IgUMdcaxlIRE0iOxNnyLnQ',\n",
       "  'review_count': 2431,\n",
       "  'categories': [{'alias': 'pizza', 'title': 'Pizza'}],\n",
       "  'rating': 4.5,\n",
       "  'coordinates': {'latitude': 40.70274718768062,\n",
       "   'longitude': -73.99343490196397},\n",
       "  'transactions': ['delivery'],\n",
       "  'price': '$$',\n",
       "  'location': {'address1': '19 Old Fulton St',\n",
       "   'address2': '',\n",
       "   'address3': '',\n",
       "   'city': 'Brooklyn',\n",
       "   'zip_code': '11201',\n",
       "   'country': 'US',\n",
       "   'state': 'NY',\n",
       "   'display_address': ['19 Old Fulton St', 'Brooklyn, NY 11201']},\n",
       "  'phone': '+17185966700',\n",
       "  'display_phone': '(718) 596-6700',\n",
       "  'distance': 308.56984360837544},\n",
       " {'id': 'WG639VkTjmK5dzydd1BBJA',\n",
       "  'alias': 'rubirosa-new-york-2',\n",
       "  'name': 'Rubirosa',\n",
       "  'image_url': 'https://s3-media4.fl.yelpcdn.com/bphoto/LuSzR8cpVQRofXOT_bMi1A/o.jpg',\n",
       "  'is_closed': False,\n",
       "  'url': 'https://www.yelp.com/biz/rubirosa-new-york-2?adjust_creative=IgUMdcaxlIRE0iOxNnyLnQ&utm_campaign=yelp_api_v3&utm_medium=api_v3_business_search&utm_source=IgUMdcaxlIRE0iOxNnyLnQ',\n",
       "  'review_count': 2629,\n",
       "  'categories': [{'alias': 'italian', 'title': 'Italian'},\n",
       "   {'alias': 'pizza', 'title': 'Pizza'}],\n",
       "  'rating': 4.5,\n",
       "  'coordinates': {'latitude': 40.722766, 'longitude': -73.996233},\n",
       "  'transactions': ['delivery', 'pickup'],\n",
       "  'price': '$$',\n",
       "  'location': {'address1': '235 Mulberry St',\n",
       "   'address2': '',\n",
       "   'address3': '',\n",
       "   'city': 'New York',\n",
       "   'zip_code': '10012',\n",
       "   'country': 'US',\n",
       "   'state': 'NY',\n",
       "   'display_address': ['235 Mulberry St', 'New York, NY 10012']},\n",
       "  'phone': '+12129650500',\n",
       "  'display_phone': '(212) 965-0500',\n",
       "  'distance': 1932.9467701334759},\n",
       " {'id': 'WIhm0W9197f_rRtDziq5qQ',\n",
       "  'alias': 'lombardis-pizza-new-york-4',\n",
       "  'name': \"Lombardi's Pizza\",\n",
       "  'image_url': 'https://s3-media1.fl.yelpcdn.com/bphoto/UZ6V_hobp1KpYDPOHNoCKw/o.jpg',\n",
       "  'is_closed': False,\n",
       "  'url': 'https://www.yelp.com/biz/lombardis-pizza-new-york-4?adjust_creative=IgUMdcaxlIRE0iOxNnyLnQ&utm_campaign=yelp_api_v3&utm_medium=api_v3_business_search&utm_source=IgUMdcaxlIRE0iOxNnyLnQ',\n",
       "  'review_count': 6304,\n",
       "  'categories': [{'alias': 'pizza', 'title': 'Pizza'}],\n",
       "  'rating': 4.0,\n",
       "  'coordinates': {'latitude': 40.7215934960083,\n",
       "   'longitude': -73.9955956044561},\n",
       "  'transactions': ['delivery', 'pickup'],\n",
       "  'price': '$$',\n",
       "  'location': {'address1': '32 Spring St',\n",
       "   'address2': '',\n",
       "   'address3': '',\n",
       "   'city': 'New York',\n",
       "   'zip_code': '10012',\n",
       "   'country': 'US',\n",
       "   'state': 'NY',\n",
       "   'display_address': ['32 Spring St', 'New York, NY 10012']},\n",
       "  'phone': '+12129417994',\n",
       "  'display_phone': '(212) 941-7994',\n",
       "  'distance': 1798.9959778083735},\n",
       " {'id': 'Q9F2ocrmYuGt1yn3M7MOBw',\n",
       "  'alias': 'lucali-brooklyn-3',\n",
       "  'name': 'Lucali',\n",
       "  'image_url': 'https://s3-media3.fl.yelpcdn.com/bphoto/Yl_eZ_DW_iaumnU-pfSoaw/o.jpg',\n",
       "  'is_closed': False,\n",
       "  'url': 'https://www.yelp.com/biz/lucali-brooklyn-3?adjust_creative=IgUMdcaxlIRE0iOxNnyLnQ&utm_campaign=yelp_api_v3&utm_medium=api_v3_business_search&utm_source=IgUMdcaxlIRE0iOxNnyLnQ',\n",
       "  'review_count': 1787,\n",
       "  'categories': [{'alias': 'pizza', 'title': 'Pizza'}],\n",
       "  'rating': 4.0,\n",
       "  'coordinates': {'latitude': 40.6818, 'longitude': -74.00024},\n",
       "  'transactions': ['delivery'],\n",
       "  'price': '$$',\n",
       "  'location': {'address1': '575 Henry St',\n",
       "   'address2': None,\n",
       "   'address3': '',\n",
       "   'city': 'Brooklyn',\n",
       "   'zip_code': '11231',\n",
       "   'country': 'US',\n",
       "   'state': 'NY',\n",
       "   'display_address': ['575 Henry St', 'Brooklyn, NY 11231']},\n",
       "  'phone': '+17188584086',\n",
       "  'display_phone': '(718) 858-4086',\n",
       "  'distance': 2674.849860473569},\n",
       " {'id': '2ggi1luerd3Mf_C82JvCYg',\n",
       "  'alias': 'grimaldis-pizzeria-brooklyn-4',\n",
       "  'name': \"Grimaldi's Pizzeria\",\n",
       "  'image_url': 'https://s3-media2.fl.yelpcdn.com/bphoto/TNKqW31PTvtSw6-Lbc1mtA/o.jpg',\n",
       "  'is_closed': False,\n",
       "  'url': 'https://www.yelp.com/biz/grimaldis-pizzeria-brooklyn-4?adjust_creative=IgUMdcaxlIRE0iOxNnyLnQ&utm_campaign=yelp_api_v3&utm_medium=api_v3_business_search&utm_source=IgUMdcaxlIRE0iOxNnyLnQ',\n",
       "  'review_count': 4769,\n",
       "  'categories': [{'alias': 'pizza', 'title': 'Pizza'}],\n",
       "  'rating': 3.5,\n",
       "  'coordinates': {'latitude': 40.702583, 'longitude': -73.9932413},\n",
       "  'transactions': ['delivery', 'pickup'],\n",
       "  'price': '$$',\n",
       "  'location': {'address1': '1 Front St',\n",
       "   'address2': '',\n",
       "   'address3': '',\n",
       "   'city': 'Brooklyn',\n",
       "   'zip_code': '11201',\n",
       "   'country': 'US',\n",
       "   'state': 'NY',\n",
       "   'display_address': ['1 Front St', 'Brooklyn, NY 11201']},\n",
       "  'phone': '+17188584300',\n",
       "  'display_phone': '(718) 858-4300',\n",
       "  'distance': 330.34746206527655},\n",
       " {'id': 'LF1QAuvpfX7KGQlg2zMg6Q',\n",
       "  'alias': 'johns-of-bleecker-street-new-york-2',\n",
       "  'name': \"John's of Bleecker Street\",\n",
       "  'image_url': 'https://s3-media1.fl.yelpcdn.com/bphoto/r2bmU0uH-6SSxqjRbITDgg/o.jpg',\n",
       "  'is_closed': False,\n",
       "  'url': 'https://www.yelp.com/biz/johns-of-bleecker-street-new-york-2?adjust_creative=IgUMdcaxlIRE0iOxNnyLnQ&utm_campaign=yelp_api_v3&utm_medium=api_v3_business_search&utm_source=IgUMdcaxlIRE0iOxNnyLnQ',\n",
       "  'review_count': 2252,\n",
       "  'categories': [{'alias': 'pizza', 'title': 'Pizza'}],\n",
       "  'rating': 4.0,\n",
       "  'coordinates': {'latitude': 40.73158, 'longitude': -74.00332},\n",
       "  'transactions': ['delivery', 'pickup'],\n",
       "  'price': '$$',\n",
       "  'location': {'address1': '278 Bleecker St',\n",
       "   'address2': '',\n",
       "   'address3': '',\n",
       "   'city': 'New York',\n",
       "   'zip_code': '10014',\n",
       "   'country': 'US',\n",
       "   'state': 'NY',\n",
       "   'display_address': ['278 Bleecker St', 'New York, NY 10014']},\n",
       "  'phone': '+12122431680',\n",
       "  'display_phone': '(212) 243-1680',\n",
       "  'distance': 3010.899021476809},\n",
       " {'id': 'uc5qQMzs96rzjK27epDCug',\n",
       "  'alias': 'joes-pizza-new-york-4',\n",
       "  'name': \"Joe's Pizza\",\n",
       "  'image_url': 'https://s3-media4.fl.yelpcdn.com/bphoto/1TvTRG9HFmEGaTSBMcUBhA/o.jpg',\n",
       "  'is_closed': False,\n",
       "  'url': 'https://www.yelp.com/biz/joes-pizza-new-york-4?adjust_creative=IgUMdcaxlIRE0iOxNnyLnQ&utm_campaign=yelp_api_v3&utm_medium=api_v3_business_search&utm_source=IgUMdcaxlIRE0iOxNnyLnQ',\n",
       "  'review_count': 2801,\n",
       "  'categories': [{'alias': 'pizza', 'title': 'Pizza'}],\n",
       "  'rating': 4.0,\n",
       "  'coordinates': {'latitude': 40.73060076, 'longitude': -74.00215997},\n",
       "  'transactions': ['delivery'],\n",
       "  'price': '$',\n",
       "  'location': {'address1': '7 Carmine St',\n",
       "   'address2': '',\n",
       "   'address3': '',\n",
       "   'city': 'New York',\n",
       "   'zip_code': '10014',\n",
       "   'country': 'US',\n",
       "   'state': 'NY',\n",
       "   'display_address': ['7 Carmine St', 'New York, NY 10014']},\n",
       "  'phone': '+12123661182',\n",
       "  'display_phone': '(212) 366-1182',\n",
       "  'distance': 2874.702513677348},\n",
       " {'id': 'oJ_XSPZFpvIt6rvheSQl7A',\n",
       "  'alias': 'bleecker-street-pizza-new-york',\n",
       "  'name': 'Bleecker Street Pizza',\n",
       "  'image_url': 'https://s3-media4.fl.yelpcdn.com/bphoto/Kyi2tP43S_a6s-zXD38NUQ/o.jpg',\n",
       "  'is_closed': False,\n",
       "  'url': 'https://www.yelp.com/biz/bleecker-street-pizza-new-york?adjust_creative=IgUMdcaxlIRE0iOxNnyLnQ&utm_campaign=yelp_api_v3&utm_medium=api_v3_business_search&utm_source=IgUMdcaxlIRE0iOxNnyLnQ',\n",
       "  'review_count': 2586,\n",
       "  'categories': [{'alias': 'pizza', 'title': 'Pizza'},\n",
       "   {'alias': 'italian', 'title': 'Italian'}],\n",
       "  'rating': 4.0,\n",
       "  'coordinates': {'latitude': 40.7320627016512,\n",
       "   'longitude': -74.0036552270137},\n",
       "  'transactions': ['delivery', 'pickup'],\n",
       "  'price': '$',\n",
       "  'location': {'address1': '69 7th Ave S',\n",
       "   'address2': None,\n",
       "   'address3': '',\n",
       "   'city': 'New York',\n",
       "   'zip_code': '10014',\n",
       "   'country': 'US',\n",
       "   'state': 'NY',\n",
       "   'display_address': ['69 7th Ave S', 'New York, NY 10014']},\n",
       "  'phone': '+12129244466',\n",
       "  'display_phone': '(212) 924-4466',\n",
       "  'distance': 3073.5742196084057},\n",
       " {'id': 'C8j0q4Ma_S5hBGuAI-aaww',\n",
       "  'alias': 'di-fara-pizza-brooklyn',\n",
       "  'name': 'Di Fara Pizza',\n",
       "  'image_url': 'https://s3-media3.fl.yelpcdn.com/bphoto/4dfe9qpe20P-vi3qFjWd4Q/o.jpg',\n",
       "  'is_closed': False,\n",
       "  'url': 'https://www.yelp.com/biz/di-fara-pizza-brooklyn?adjust_creative=IgUMdcaxlIRE0iOxNnyLnQ&utm_campaign=yelp_api_v3&utm_medium=api_v3_business_search&utm_source=IgUMdcaxlIRE0iOxNnyLnQ',\n",
       "  'review_count': 3746,\n",
       "  'categories': [{'alias': 'pizza', 'title': 'Pizza'}],\n",
       "  'rating': 4.0,\n",
       "  'coordinates': {'latitude': 40.625093, 'longitude': -73.961531},\n",
       "  'transactions': ['delivery', 'pickup'],\n",
       "  'price': '$$',\n",
       "  'location': {'address1': '1424 Ave J',\n",
       "   'address2': '',\n",
       "   'address3': '',\n",
       "   'city': 'Brooklyn',\n",
       "   'zip_code': '11230',\n",
       "   'country': 'US',\n",
       "   'state': 'NY',\n",
       "   'display_address': ['1424 Ave J', 'Brooklyn, NY 11230']},\n",
       "  'phone': '+17182581367',\n",
       "  'display_phone': '(718) 258-1367',\n",
       "  'distance': 9352.269072867253},\n",
       " {'id': '0UdC0VYX6aAvLiOcpR4MVQ',\n",
       "  'alias': 'joes-pizza-new-york-7',\n",
       "  'name': \"Joe's Pizza\",\n",
       "  'image_url': 'https://s3-media3.fl.yelpcdn.com/bphoto/BTCcvlqxlp2MOeK_rHa8lQ/o.jpg',\n",
       "  'is_closed': False,\n",
       "  'url': 'https://www.yelp.com/biz/joes-pizza-new-york-7?adjust_creative=IgUMdcaxlIRE0iOxNnyLnQ&utm_campaign=yelp_api_v3&utm_medium=api_v3_business_search&utm_source=IgUMdcaxlIRE0iOxNnyLnQ',\n",
       "  'review_count': 977,\n",
       "  'categories': [{'alias': 'pizza', 'title': 'Pizza'}],\n",
       "  'rating': 4.0,\n",
       "  'coordinates': {'latitude': 40.73331, 'longitude': -73.98763},\n",
       "  'transactions': ['delivery', 'pickup'],\n",
       "  'price': '$',\n",
       "  'location': {'address1': '150 E 14th St',\n",
       "   'address2': '',\n",
       "   'address3': '',\n",
       "   'city': 'New York',\n",
       "   'zip_code': '10003',\n",
       "   'country': 'US',\n",
       "   'state': 'NY',\n",
       "   'display_address': ['150 E 14th St', 'New York, NY 10003']},\n",
       "  'phone': '+12123889474',\n",
       "  'display_phone': '(212) 388-9474',\n",
       "  'distance': 3140.2631090277323},\n",
       " {'id': '2xQmBB6w-W6lxiex80fA9A',\n",
       "  'alias': 'luigis-pizzeria-brooklyn-4',\n",
       "  'name': \"Luigi's Pizzeria\",\n",
       "  'image_url': 'https://s3-media1.fl.yelpcdn.com/bphoto/FE-VEmV9nCee2J2vLsKhNg/o.jpg',\n",
       "  'is_closed': False,\n",
       "  'url': 'https://www.yelp.com/biz/luigis-pizzeria-brooklyn-4?adjust_creative=IgUMdcaxlIRE0iOxNnyLnQ&utm_campaign=yelp_api_v3&utm_medium=api_v3_business_search&utm_source=IgUMdcaxlIRE0iOxNnyLnQ',\n",
       "  'review_count': 263,\n",
       "  'categories': [{'alias': 'pizza', 'title': 'Pizza'}],\n",
       "  'rating': 4.5,\n",
       "  'coordinates': {'latitude': 40.6897, 'longitude': -73.965369},\n",
       "  'transactions': ['delivery'],\n",
       "  'price': '$',\n",
       "  'location': {'address1': '326 Dekalb Ave',\n",
       "   'address2': '',\n",
       "   'address3': '',\n",
       "   'city': 'Brooklyn',\n",
       "   'zip_code': '11205',\n",
       "   'country': 'US',\n",
       "   'state': 'NY',\n",
       "   'display_address': ['326 Dekalb Ave', 'Brooklyn, NY 11205']},\n",
       "  'phone': '+17187832430',\n",
       "  'display_phone': '(718) 783-2430',\n",
       "  'distance': 3001.8318150390764},\n",
       " {'id': 'TWH4MjLtN1fKlF-7n6YXHg',\n",
       "  'alias': 'lil-frankies-new-york',\n",
       "  'name': \"Lil Frankie's\",\n",
       "  'image_url': 'https://s3-media3.fl.yelpcdn.com/bphoto/t0OsEVlzDWgM_NMGVHmPiA/o.jpg',\n",
       "  'is_closed': False,\n",
       "  'url': 'https://www.yelp.com/biz/lil-frankies-new-york?adjust_creative=IgUMdcaxlIRE0iOxNnyLnQ&utm_campaign=yelp_api_v3&utm_medium=api_v3_business_search&utm_source=IgUMdcaxlIRE0iOxNnyLnQ',\n",
       "  'review_count': 1323,\n",
       "  'categories': [{'alias': 'pizza', 'title': 'Pizza'},\n",
       "   {'alias': 'italian', 'title': 'Italian'}],\n",
       "  'rating': 4.0,\n",
       "  'coordinates': {'latitude': 40.723625, 'longitude': -73.988555},\n",
       "  'transactions': ['delivery', 'pickup'],\n",
       "  'price': '$$',\n",
       "  'location': {'address1': '19 1st Ave',\n",
       "   'address2': '',\n",
       "   'address3': '',\n",
       "   'city': 'New York',\n",
       "   'zip_code': '10003',\n",
       "   'country': 'US',\n",
       "   'state': 'NY',\n",
       "   'display_address': ['19 1st Ave', 'New York, NY 10003']},\n",
       "  'phone': '+12124204900',\n",
       "  'display_phone': '(212) 420-4900',\n",
       "  'distance': 2079.0350425992006},\n",
       " {'id': 'xxgcU_oFIox_pAmroo9WwA',\n",
       "  'alias': 'front-street-pizza-brooklyn',\n",
       "  'name': 'Front Street Pizza',\n",
       "  'image_url': 'https://s3-media1.fl.yelpcdn.com/bphoto/ybrfmg0lGdBoJRM7X1_s3A/o.jpg',\n",
       "  'is_closed': False,\n",
       "  'url': 'https://www.yelp.com/biz/front-street-pizza-brooklyn?adjust_creative=IgUMdcaxlIRE0iOxNnyLnQ&utm_campaign=yelp_api_v3&utm_medium=api_v3_business_search&utm_source=IgUMdcaxlIRE0iOxNnyLnQ',\n",
       "  'review_count': 409,\n",
       "  'categories': [{'alias': 'pizza', 'title': 'Pizza'},\n",
       "   {'alias': 'bars', 'title': 'Bars'},\n",
       "   {'alias': 'italian', 'title': 'Italian'}],\n",
       "  'rating': 4.0,\n",
       "  'coordinates': {'latitude': 40.70244, 'longitude': -73.98943},\n",
       "  'transactions': ['delivery', 'pickup'],\n",
       "  'price': '$',\n",
       "  'location': {'address1': '80 Front St',\n",
       "   'address2': '',\n",
       "   'address3': '',\n",
       "   'city': 'Brooklyn',\n",
       "   'zip_code': '11201',\n",
       "   'country': 'US',\n",
       "   'state': 'NY',\n",
       "   'display_address': ['80 Front St', 'Brooklyn, NY 11201']},\n",
       "  'phone': '+17188753700',\n",
       "  'display_phone': '(718) 875-3700',\n",
       "  'distance': 550.4392264831844},\n",
       " {'id': 'qoBcWhGwlcUsKIQ2nB22vA',\n",
       "  'alias': 'lombardos-of-bay-ridge-brooklyn-2',\n",
       "  'name': \"Lombardo's of Bay Ridge\",\n",
       "  'image_url': 'https://s3-media2.fl.yelpcdn.com/bphoto/dApR-oBFGa2kQIpmEeasfA/o.jpg',\n",
       "  'is_closed': False,\n",
       "  'url': 'https://www.yelp.com/biz/lombardos-of-bay-ridge-brooklyn-2?adjust_creative=IgUMdcaxlIRE0iOxNnyLnQ&utm_campaign=yelp_api_v3&utm_medium=api_v3_business_search&utm_source=IgUMdcaxlIRE0iOxNnyLnQ',\n",
       "  'review_count': 168,\n",
       "  'categories': [{'alias': 'pizza', 'title': 'Pizza'},\n",
       "   {'alias': 'salad', 'title': 'Salad'},\n",
       "   {'alias': 'soup', 'title': 'Soup'}],\n",
       "  'rating': 5.0,\n",
       "  'coordinates': {'latitude': 40.634741, 'longitude': -74.0284259},\n",
       "  'transactions': ['delivery', 'pickup'],\n",
       "  'price': '$$',\n",
       "  'location': {'address1': '279 71st St',\n",
       "   'address2': None,\n",
       "   'address3': '',\n",
       "   'city': 'Brooklyn',\n",
       "   'zip_code': '11209',\n",
       "   'country': 'US',\n",
       "   'state': 'NY',\n",
       "   'display_address': ['279 71st St', 'Brooklyn, NY 11209']},\n",
       "  'phone': '+17182387100',\n",
       "  'display_phone': '(718) 238-7100',\n",
       "  'distance': 8367.095256061873},\n",
       " {'id': 'KEEXuHCYhsQJ-zpJhu98bA',\n",
       "  'alias': 'joes-pizza-new-york-148',\n",
       "  'name': \"Joe's Pizza\",\n",
       "  'image_url': 'https://s3-media4.fl.yelpcdn.com/bphoto/gESrw6RXqd12mmdUzNoV5A/o.jpg',\n",
       "  'is_closed': False,\n",
       "  'url': 'https://www.yelp.com/biz/joes-pizza-new-york-148?adjust_creative=IgUMdcaxlIRE0iOxNnyLnQ&utm_campaign=yelp_api_v3&utm_medium=api_v3_business_search&utm_source=IgUMdcaxlIRE0iOxNnyLnQ',\n",
       "  'review_count': 1481,\n",
       "  'categories': [{'alias': 'pizza', 'title': 'Pizza'}],\n",
       "  'rating': 4.0,\n",
       "  'coordinates': {'latitude': 40.7547, 'longitude': -73.98696},\n",
       "  'transactions': ['delivery', 'pickup'],\n",
       "  'price': '$',\n",
       "  'location': {'address1': '1435 Broadway',\n",
       "   'address2': '',\n",
       "   'address3': None,\n",
       "   'city': 'New York',\n",
       "   'zip_code': '10018',\n",
       "   'country': 'US',\n",
       "   'state': 'NY',\n",
       "   'display_address': ['1435 Broadway', 'New York, NY 10018']},\n",
       "  'phone': '+16465594878',\n",
       "  'display_phone': '(646) 559-4878',\n",
       "  'distance': 5508.746902433722},\n",
       " {'id': 'FhXjAc6nKLf414KxYujUHw',\n",
       "  'alias': 'robertas-brooklyn-2',\n",
       "  'name': \"Roberta's\",\n",
       "  'image_url': 'https://s3-media4.fl.yelpcdn.com/bphoto/8fY9fA5TtCF0ebdTNph9mQ/o.jpg',\n",
       "  'is_closed': False,\n",
       "  'url': 'https://www.yelp.com/biz/robertas-brooklyn-2?adjust_creative=IgUMdcaxlIRE0iOxNnyLnQ&utm_campaign=yelp_api_v3&utm_medium=api_v3_business_search&utm_source=IgUMdcaxlIRE0iOxNnyLnQ',\n",
       "  'review_count': 3089,\n",
       "  'categories': [{'alias': 'pizza', 'title': 'Pizza'},\n",
       "   {'alias': 'italian', 'title': 'Italian'}],\n",
       "  'rating': 4.0,\n",
       "  'coordinates': {'latitude': 40.70493, 'longitude': -73.93399},\n",
       "  'transactions': ['delivery', 'pickup'],\n",
       "  'price': '$$',\n",
       "  'location': {'address1': '261 Moore St',\n",
       "   'address2': '',\n",
       "   'address3': '',\n",
       "   'city': 'Brooklyn',\n",
       "   'zip_code': '11206',\n",
       "   'country': 'US',\n",
       "   'state': 'NY',\n",
       "   'display_address': ['261 Moore St', 'Brooklyn, NY 11206']},\n",
       "  'phone': '+17184171118',\n",
       "  'display_phone': '(718) 417-1118',\n",
       "  'distance': 5083.5233118395545},\n",
       " {'id': 'MphfKkYFEe0BDQ6hZ0A5fA',\n",
       "  'alias': 'gelso-and-grand-new-york',\n",
       "  'name': 'Gelso & Grand',\n",
       "  'image_url': 'https://s3-media2.fl.yelpcdn.com/bphoto/IGMpmfRY0cazEJwAQ0NbFg/o.jpg',\n",
       "  'is_closed': False,\n",
       "  'url': 'https://www.yelp.com/biz/gelso-and-grand-new-york?adjust_creative=IgUMdcaxlIRE0iOxNnyLnQ&utm_campaign=yelp_api_v3&utm_medium=api_v3_business_search&utm_source=IgUMdcaxlIRE0iOxNnyLnQ',\n",
       "  'review_count': 1207,\n",
       "  'categories': [{'alias': 'italian', 'title': 'Italian'},\n",
       "   {'alias': 'pastashops', 'title': 'Pasta Shops'},\n",
       "   {'alias': 'pizza', 'title': 'Pizza'}],\n",
       "  'rating': 4.5,\n",
       "  'coordinates': {'latitude': 40.7194089547259,\n",
       "   'longitude': -73.9973777877722},\n",
       "  'transactions': ['delivery', 'pickup'],\n",
       "  'price': '$$',\n",
       "  'location': {'address1': '186 Grand St',\n",
       "   'address2': '',\n",
       "   'address3': '',\n",
       "   'city': 'New York',\n",
       "   'zip_code': '10013',\n",
       "   'country': 'US',\n",
       "   'state': 'NY',\n",
       "   'display_address': ['186 Grand St', 'New York, NY 10013']},\n",
       "  'phone': '+12122261600',\n",
       "  'display_phone': '(212) 226-1600',\n",
       "  'distance': 1574.3490321455226},\n",
       " {'id': 'GRXvvB1OKMuW4XDWEaVAlg',\n",
       "  'alias': 'joes-pizza-brooklyn-8',\n",
       "  'name': \"Joe's Pizza\",\n",
       "  'image_url': 'https://s3-media2.fl.yelpcdn.com/bphoto/7RQebflR3JvTcMWRbVC86g/o.jpg',\n",
       "  'is_closed': False,\n",
       "  'url': 'https://www.yelp.com/biz/joes-pizza-brooklyn-8?adjust_creative=IgUMdcaxlIRE0iOxNnyLnQ&utm_campaign=yelp_api_v3&utm_medium=api_v3_business_search&utm_source=IgUMdcaxlIRE0iOxNnyLnQ',\n",
       "  'review_count': 390,\n",
       "  'categories': [{'alias': 'pizza', 'title': 'Pizza'}],\n",
       "  'rating': 4.0,\n",
       "  'coordinates': {'latitude': 40.7168952, 'longitude': -73.95892996733771},\n",
       "  'transactions': ['delivery', 'pickup'],\n",
       "  'price': '$',\n",
       "  'location': {'address1': '216 Bedford Ave',\n",
       "   'address2': '',\n",
       "   'address3': None,\n",
       "   'city': 'Brooklyn',\n",
       "   'zip_code': '11249',\n",
       "   'country': 'US',\n",
       "   'state': 'NY',\n",
       "   'display_address': ['216 Bedford Ave', 'Brooklyn, NY 11249']},\n",
       "  'phone': '+17183882216',\n",
       "  'display_phone': '(718) 388-2216',\n",
       "  'distance': 3241.190355020982},\n",
       " {'id': '-9NO2IDCJMyNGZMAQ1-VQw',\n",
       "  'alias': 'ny-pizza-suprema-new-york',\n",
       "  'name': 'NY Pizza Suprema',\n",
       "  'image_url': 'https://s3-media4.fl.yelpcdn.com/bphoto/EqbDXneMuQP6pw6GemVdQA/o.jpg',\n",
       "  'is_closed': False,\n",
       "  'url': 'https://www.yelp.com/biz/ny-pizza-suprema-new-york?adjust_creative=IgUMdcaxlIRE0iOxNnyLnQ&utm_campaign=yelp_api_v3&utm_medium=api_v3_business_search&utm_source=IgUMdcaxlIRE0iOxNnyLnQ',\n",
       "  'review_count': 2218,\n",
       "  'categories': [{'alias': 'pizza', 'title': 'Pizza'}],\n",
       "  'rating': 4.0,\n",
       "  'coordinates': {'latitude': 40.7502059936523,\n",
       "   'longitude': -73.9953231811523},\n",
       "  'transactions': ['delivery', 'pickup'],\n",
       "  'price': '$',\n",
       "  'location': {'address1': '413 8th Ave',\n",
       "   'address2': '',\n",
       "   'address3': '',\n",
       "   'city': 'New York',\n",
       "   'zip_code': '10001',\n",
       "   'country': 'US',\n",
       "   'state': 'NY',\n",
       "   'display_address': ['413 8th Ave', 'New York, NY 10001']},\n",
       "  'phone': '+12125948939',\n",
       "  'display_phone': '(212) 594-8939',\n",
       "  'distance': 4977.847939164096}]"
      ]
     },
     "execution_count": 4,
     "metadata": {},
     "output_type": "execute_result"
    }
   ],
   "source": [
    "businesses = response_json[\"businesses\"]\n",
    "businesses"
   ]
  },
  {
   "cell_type": "code",
   "execution_count": 5,
   "metadata": {},
   "outputs": [
    {
     "data": {
      "text/plain": [
       "[{'name': 'Prince Street Pizza',\n",
       "  'review_count': 4305,\n",
       "  'rating': 4.5,\n",
       "  'price': '$',\n",
       "  'latitude': 40.72308755605564,\n",
       "  'longitude': -73.99453001177575},\n",
       " {'name': \"Juliana's\",\n",
       "  'review_count': 2431,\n",
       "  'rating': 4.5,\n",
       "  'price': '$$',\n",
       "  'latitude': 40.70274718768062,\n",
       "  'longitude': -73.99343490196397},\n",
       " {'name': 'Rubirosa',\n",
       "  'review_count': 2629,\n",
       "  'rating': 4.5,\n",
       "  'price': '$$',\n",
       "  'latitude': 40.722766,\n",
       "  'longitude': -73.996233},\n",
       " {'name': \"Lombardi's Pizza\",\n",
       "  'review_count': 6304,\n",
       "  'rating': 4.0,\n",
       "  'price': '$$',\n",
       "  'latitude': 40.7215934960083,\n",
       "  'longitude': -73.9955956044561},\n",
       " {'name': 'Lucali',\n",
       "  'review_count': 1787,\n",
       "  'rating': 4.0,\n",
       "  'price': '$$',\n",
       "  'latitude': 40.6818,\n",
       "  'longitude': -74.00024}]"
      ]
     },
     "execution_count": 5,
     "metadata": {},
     "output_type": "execute_result"
    }
   ],
   "source": [
    "# Replace None with appropriate code\n",
    "\n",
    "def prepare_data(data_list):\n",
    "    \"\"\"\n",
    "    This function takes in a list of dictionaries and prepares it\n",
    "    for analysis\n",
    "    \"\"\"\n",
    "    \n",
    "    # Make a new list to hold results\n",
    "    results = []\n",
    "    \n",
    "    for business_data in data_list:\n",
    "    \n",
    "        # Make a new dictionary to hold prepared data for this business\n",
    "        prepared_data = {}\n",
    "        \n",
    "        # Extract name, review_count, rating, and price key-value pairs\n",
    "        # from business_data and add to prepared_data\n",
    "        # If a key is not present in business_data, add it to prepared_data\n",
    "        # with an associated value of None\n",
    "        for key in ('name', 'review_count', 'rating', 'price'):\n",
    "            prepared_data[key] = business_data.get(key)\n",
    "    \n",
    "        # Parse and add latitude and longitude columns\n",
    "        prepared_data['latitude'] = business_data['coordinates']['latitude']\n",
    "        prepared_data['longitude'] = business_data['coordinates']['longitude']\n",
    "        \n",
    "        # Add to list if all values are present\n",
    "        if all(prepared_data.values()):\n",
    "            results.append(prepared_data)\n",
    "    \n",
    "    return results\n",
    "    \n",
    "# Test out function\n",
    "prepared_businesses = prepare_data(businesses)\n",
    "prepared_businesses[:5]"
   ]
  },
  {
   "cell_type": "markdown",
   "metadata": {},
   "source": [
    "Check that your function created the correct keys:"
   ]
  },
  {
   "cell_type": "code",
   "execution_count": 6,
   "metadata": {},
   "outputs": [],
   "source": [
    "# Run this cell without changes\n",
    "\n",
    "assert sorted(list(prepared_businesses[0].keys())) == ['latitude', 'longitude', 'name', 'price', 'rating', 'review_count']"
   ]
  },
  {
   "cell_type": "markdown",
   "metadata": {},
   "source": [
    "The following code will differ depending on your query, but we expect there to be 20 businesses in the original list, and potentially fewer in the prepared list (if any of them were missing data):"
   ]
  },
  {
   "cell_type": "code",
   "execution_count": 7,
   "metadata": {},
   "outputs": [
    {
     "name": "stdout",
     "output_type": "stream",
     "text": [
      "Original: 20\n",
      "Prepared: 20\n"
     ]
    }
   ],
   "source": [
    "# Run this cell without changes\n",
    "print(\"Original:\", len(businesses))\n",
    "print(\"Prepared:\", len(prepared_businesses))"
   ]
  },
  {
   "cell_type": "markdown",
   "metadata": {},
   "source": [
    "Great! We will reuse this function once we have retrieved the full dataset."
   ]
  },
  {
   "cell_type": "markdown",
   "metadata": {},
   "source": [
    "## 2. Add Pagination\n",
    "\n",
    "Now that you are able to extract information from one page of the response, let's figure out how to request as many pages as possible.\n",
    "\n",
    "### Determining the Total\n",
    "\n",
    "Depending on the number of total results for your query, you will either retrieve all of the results, or just the first 1000 (if there are more than 1000 total).\n",
    "\n",
    "We can find the total number of results using the `\"total\"` key:"
   ]
  },
  {
   "cell_type": "code",
   "execution_count": 8,
   "metadata": {},
   "outputs": [
    {
     "data": {
      "text/plain": [
       "12000"
      ]
     },
     "execution_count": 8,
     "metadata": {},
     "output_type": "execute_result"
    }
   ],
   "source": [
    "# Run this cell without changes\n",
    "response_json[\"total\"]"
   ]
  },
  {
   "cell_type": "markdown",
   "metadata": {},
   "source": [
    "(This is specific to the implementation of the Yelp API. Some APIs will just tell you that there are more pages, or will tell you the number of pages total, rather than the total number of results. If you're not sure, always check the documentation.)\n",
    "\n",
    "In the cell below, assign the variable `total` to either the value shown above (if it is less than 1000), or 1000."
   ]
  },
  {
   "cell_type": "code",
   "execution_count": 9,
   "metadata": {},
   "outputs": [
    {
     "data": {
      "text/plain": [
       "1000"
      ]
     },
     "execution_count": 9,
     "metadata": {},
     "output_type": "execute_result"
    }
   ],
   "source": [
    "# Replace None with appropriate code\n",
    "total = 1000\n",
    "total"
   ]
  },
  {
   "cell_type": "markdown",
   "metadata": {},
   "source": [
    "### Calculating the Offsets\n",
    "\n",
    "The documentation states in the parameters section:\n",
    "\n",
    "> **Name**: `limit`, **Type:** int, **Description:** Optional. Number of business results to return. By default, it will return 20. Maximum is 50.\n",
    "\n",
    "> **Name**: `offset`, **Type:** int, **Description:** Optional. Offset the list of returned business results by this amount.\n",
    "\n",
    "So, to get the most results with the fewest API calls we want to set a limit of 50 every time. If, say, we wanted to get 210 total results, that would mean:\n",
    "\n",
    "1. Offset of `0` (first 50 records)\n",
    "2. Offset of `50` (second 50 records)\n",
    "3. Offset of `100` (third 50 records)\n",
    "4. Offset of `150` (fourth 50 records)\n",
    "5. Offset of `200` (final 10 records)\n",
    "\n",
    "In the cell below, create a function `get_offsets` that takes in a total and returns a list of offsets for that total. You can assume that there is a limit of 50 every time.\n",
    "\n",
    "*Hint: you can use `range` ([documentation here](https://docs.python.org/3.3/library/stdtypes.html?highlight=range#range)) to do this in one line of code. Just make the returned result is a list.*"
   ]
  },
  {
   "cell_type": "code",
   "execution_count": 10,
   "metadata": {},
   "outputs": [],
   "source": [
    "# Replace None with appropriate code\n",
    "def get_offsets(total):\n",
    "    \"\"\"\n",
    "    Get a list of offsets needed to get all pages\n",
    "    of data up until the total\n",
    "    \"\"\"\n",
    "    offsets = list(range(0,total, 50))\n",
    "    \n",
    "    return offsets"
   ]
  },
  {
   "cell_type": "code",
   "execution_count": 11,
   "metadata": {},
   "outputs": [
    {
     "data": {
      "text/plain": [
       "[0,\n",
       " 50,\n",
       " 100,\n",
       " 150,\n",
       " 200,\n",
       " 250,\n",
       " 300,\n",
       " 350,\n",
       " 400,\n",
       " 450,\n",
       " 500,\n",
       " 550,\n",
       " 600,\n",
       " 650,\n",
       " 700,\n",
       " 750,\n",
       " 800,\n",
       " 850,\n",
       " 900,\n",
       " 950]"
      ]
     },
     "execution_count": 11,
     "metadata": {},
     "output_type": "execute_result"
    }
   ],
   "source": [
    "get_offsets(total)"
   ]
  },
  {
   "cell_type": "markdown",
   "metadata": {},
   "source": [
    "Check that your function works below:"
   ]
  },
  {
   "cell_type": "code",
   "execution_count": 12,
   "metadata": {},
   "outputs": [],
   "source": [
    "# Run this cell without changes\n",
    "\n",
    "assert get_offsets(200) == [0, 50, 100, 150]\n",
    "assert get_offsets(210) == [0, 50, 100, 150, 200]"
   ]
  },
  {
   "cell_type": "markdown",
   "metadata": {},
   "source": [
    "### Putting It All Together\n",
    "\n",
    "Recall that the following variable has already been declared for you:"
   ]
  },
  {
   "cell_type": "code",
   "execution_count": 13,
   "metadata": {},
   "outputs": [
    {
     "data": {
      "text/plain": [
       "{'term': 'pizza', 'location': 'New+York+NY'}"
      ]
     },
     "execution_count": 13,
     "metadata": {},
     "output_type": "execute_result"
    }
   ],
   "source": [
    "# Run this cell without changes\n",
    "url_params"
   ]
  },
  {
   "cell_type": "markdown",
   "metadata": {},
   "source": [
    "We'll go ahead and also specify that the limit should be 50 every time:"
   ]
  },
  {
   "cell_type": "code",
   "execution_count": 14,
   "metadata": {},
   "outputs": [],
   "source": [
    "# Run this cell without changes\n",
    "url_params[\"limit\"] = 50"
   ]
  },
  {
   "cell_type": "markdown",
   "metadata": {},
   "source": [
    "In order to modify the offset, you'll need to add it to `url_params` with the key `\"offset\"` and whatever value is needed.\n",
    "\n",
    "In the cell below, write code that:\n",
    "\n",
    "* Creates an empty list for the full prepared dataset\n",
    "* Loops over all of the offsets from `get_offsets` and makes an API call each time with the specified offset\n",
    "* Calls `prepare_data` to get a cleaned version of the result of each API call\n",
    "* Extends the full prepared dataset list with each query's prepared dataset"
   ]
  },
  {
   "cell_type": "code",
   "execution_count": 15,
   "metadata": {},
   "outputs": [
    {
     "data": {
      "text/plain": [
       "[0,\n",
       " 50,\n",
       " 100,\n",
       " 150,\n",
       " 200,\n",
       " 250,\n",
       " 300,\n",
       " 350,\n",
       " 400,\n",
       " 450,\n",
       " 500,\n",
       " 550,\n",
       " 600,\n",
       " 650,\n",
       " 700,\n",
       " 750,\n",
       " 800,\n",
       " 850,\n",
       " 900,\n",
       " 950]"
      ]
     },
     "execution_count": 15,
     "metadata": {},
     "output_type": "execute_result"
    }
   ],
   "source": [
    "get_offsets(total)"
   ]
  },
  {
   "cell_type": "code",
   "execution_count": 16,
   "metadata": {},
   "outputs": [
    {
     "data": {
      "text/plain": [
       "797"
      ]
     },
     "execution_count": 16,
     "metadata": {},
     "output_type": "execute_result"
    }
   ],
   "source": [
    "# Replace None with appropriate code\n",
    "\n",
    "# Create an empty list for the full prepared dataset\n",
    "full_dataset = []\n",
    "\n",
    "for offset in get_offsets(total):\n",
    "    # Add or update the \"offset\" key-value pair in url_params\n",
    "    url_params['offset'] = offset \n",
    "    \n",
    "    # Make the query and get the response\n",
    "    response = requests.get(url, headers=headers, params=url_params)\n",
    "    \n",
    "    # Get the response body in JSON format\n",
    "    response_json = response.json()\n",
    "    \n",
    "    # Get the list of businesses from the response_json\n",
    "    businesses = response_json['businesses']\n",
    "    \n",
    "    # Call the prepare_data function to\n",
    "    prepared_businesses = prepare_data(businesses)\n",
    "    \n",
    "    # Extend full_dataset with this list (don't append, or you'll get\n",
    "    # a list of lists instead of a flat list)\n",
    "    full_dataset.extend(prepared_businesses)\n",
    "\n",
    "# Check the length of the full dataset. It will be up to `total`,\n",
    "# potentially less if there were missing values\n",
    "len(full_dataset)"
   ]
  },
  {
   "cell_type": "markdown",
   "metadata": {},
   "source": [
    "This code may take up to a few minutes to run.\n",
    "\n",
    "If you get an error trying to get the response body in JSON format, try adding `time.sleep(1)` right after the `requests.get` line, so your code will sleep for 1 second between each API call."
   ]
  },
  {
   "cell_type": "markdown",
   "metadata": {},
   "source": [
    "## 3. Perform Exploratory Analysis\n",
    "\n",
    "Take the businesses from the previous question and do an initial exploratory analysis. We have provided some plots for you to interpret:"
   ]
  },
  {
   "cell_type": "code",
   "execution_count": 17,
   "metadata": {},
   "outputs": [
    {
     "data": {
      "image/png": "[encoded data removed]",
      "text/plain": [
       "<Figure size 1152x360 with 3 Axes>"
      ]
     },
     "metadata": {
      "needs_background": "light"
     },
     "output_type": "display_data"
    }
   ],
   "source": [
    "# Run this cell without changes\n",
    "from collections import Counter\n",
    "import matplotlib.pyplot as plt\n",
    "%matplotlib inline\n",
    "\n",
    "fig, (ax1, ax2, ax3) = plt.subplots(ncols=3, figsize=(16, 5))\n",
    "\n",
    "# Plot distribution of number of reviews\n",
    "all_review_counts = [x[\"review_count\"] for x in full_dataset]\n",
    "ax1.hist(all_review_counts)\n",
    "ax1.set_title(\"Review Count Distribution\")\n",
    "ax1.set_xlabel(\"Number of Reviews\")\n",
    "ax1.set_ylabel(\"Number of Businesses\")\n",
    "\n",
    "# Plot rating distribution\n",
    "all_ratings = [x[\"rating\"] for x in full_dataset]\n",
    "rating_counter = Counter(all_ratings)\n",
    "rating_keys = sorted(rating_counter.keys())\n",
    "ax2.bar(rating_keys, [rating_counter[key] for key in rating_keys])\n",
    "ax2.set_title(\"Rating Distribution\")\n",
    "ax2.set_xlabel(\"Rating\")\n",
    "ax2.set_ylabel(\"Number of Businesses\")\n",
    "\n",
    "# Plot price distribution\n",
    "all_prices = [x[\"price\"].replace(\"$\", r\"\\$\") for x in full_dataset]\n",
    "price_counter = Counter(all_prices)\n",
    "price_keys = sorted(price_counter.keys())\n",
    "ax3.bar(price_keys, [price_counter[key] for key in price_keys])\n",
    "ax3.set_title(\"Price Distribution\")\n",
    "ax3.set_xlabel(\"Price Category\")\n",
    "ax3.set_ylabel(\"Number of Businesses\");"
   ]
  },
  {
   "cell_type": "markdown",
   "metadata": {},
   "source": [
    "Describe the distributions displayed above and interpret them in the context of your query. (Your answer may differ from the solution branch depending on your query.)"
   ]
  },
  {
   "cell_type": "code",
   "execution_count": 18,
   "metadata": {},
   "outputs": [
    {
     "data": {
      "text/plain": [
       "'\\nFrom the review count distribution graph we can see that most businesses have fewer reviews less than 1000. But there are business that have 13000 reviws and even 6000 reviews.\\nFor the Rating distribution graph we can see that the rating is between 2.5 and 5 but most business were given a rating of around 4.0 out of the total 5.0\\nFor the price distribution graph price range from $ to$$$$ but most business price category was around $ and $$. This is true since we were looking for pizza\\n'"
      ]
     },
     "execution_count": 18,
     "metadata": {},
     "output_type": "execute_result"
    }
   ],
   "source": [
    "# Replace None with appropriate text\n",
    "\"\"\"\n",
    "From the review count distribution graph we can see that most businesses have fewer reviews less than 1000. But there are business that have 13000 reviws and even 6000 reviews.\n",
    "For the Rating distribution graph we can see that the rating is between 2.5 and 5 but most business were given a rating of around 4.0 out of the total 5.0\n",
    "For the price distribution graph price range from $ to$$$$ but most business price category was around $ and $$. This is true since we were looking for pizza\n",
    "\"\"\""
   ]
  },
  {
   "cell_type": "markdown",
   "metadata": {},
   "source": [
    "In the cell below, we also plot the rating distributions by price. In this setup, a price of one dollar sign is \"lower price\" and everything else is \"higher price\"."
   ]
  },
  {
   "cell_type": "code",
   "execution_count": 19,
   "metadata": {},
   "outputs": [
    {
     "data": {
      "image/png": "[encoded data removed]",
      "text/plain": [
       "<Figure size 432x288 with 1 Axes>"
      ]
     },
     "metadata": {
      "needs_background": "light"
     },
     "output_type": "display_data"
    }
   ],
   "source": [
    "# Run this cell without changes\n",
    "\n",
    "higher_price = []\n",
    "lower_price = []\n",
    "for row in full_dataset:\n",
    "    if row[\"price\"] == \"$\":\n",
    "        lower_price.append(row[\"rating\"])\n",
    "    else:\n",
    "        higher_price.append(row[\"rating\"])\n",
    "        \n",
    "fig, ax = plt.subplots()\n",
    "\n",
    "ax.hist([higher_price, lower_price], label=[\"higher price\", \"lower price\"], density=True)\n",
    "\n",
    "ax.legend();"
   ]
  },
  {
   "cell_type": "markdown",
   "metadata": {},
   "source": [
    "Is a higher price associated with a higher rating? (No need for any additional math/statistics, just interpret what you see in the plot.)"
   ]
  },
  {
   "cell_type": "code",
   "execution_count": 20,
   "metadata": {},
   "outputs": [
    {
     "data": {
      "text/plain": [
       "'\\nHigher price is associated with a higher rating. From the graph you can notice that the blue bars(higher price) are higher than the orange bars(lower price) at the rating 4.0 or a higher rating. Also, the orange bars(lower price) are higher than the Blue bars(higher price) at the the lower ratings.\\n'"
      ]
     },
     "execution_count": 20,
     "metadata": {},
     "output_type": "execute_result"
    }
   ],
   "source": [
    "# Replace None with appropriate text\n",
    "\"\"\"\n",
    "Higher price is associated with a higher rating. From the graph you can notice that the blue bars(higher price) are higher than the orange bars(lower price) at the rating 4.0 or a higher rating. Also, the orange bars(lower price) are higher than the Blue bars(higher price) at the the lower ratings.\n",
    "\"\"\""
   ]
  },
  {
   "cell_type": "markdown",
   "metadata": {},
   "source": [
    "Finally, let's look at ratings vs. review counts:"
   ]
  },
  {
   "cell_type": "code",
   "execution_count": 21,
   "metadata": {},
   "outputs": [
    {
     "data": {
      "image/png": "[encoded data removed]",
      "text/plain": [
       "<Figure size 1152x360 with 1 Axes>"
      ]
     },
     "metadata": {
      "needs_background": "light"
     },
     "output_type": "display_data"
    }
   ],
   "source": [
    "# Run this cell without changes\n",
    "fig, ax = plt.subplots(figsize=(16,5))\n",
    "\n",
    "ax.scatter(all_review_counts, all_ratings, alpha=0.2)\n",
    "ax.set_xlabel(\"Number of Reviews\")\n",
    "ax.set_ylabel(\"Rating\")\n",
    "# \"zoom in\" to a subset of review counts\n",
    "ax.set_xlim(left=0, right=1000);"
   ]
  },
  {
   "cell_type": "markdown",
   "metadata": {},
   "source": [
    "Is a higher number of reviews associated with a higher rating?"
   ]
  },
  {
   "cell_type": "code",
   "execution_count": 22,
   "metadata": {},
   "outputs": [
    {
     "data": {
      "text/plain": [
       "'\\nIts hard to tell from the plot since we can see that rating of 5.0 and 3.0 and below have less reviews which makes it hard to tell is higher rating is associated with higher number of review\\n'"
      ]
     },
     "execution_count": 22,
     "metadata": {},
     "output_type": "execute_result"
    }
   ],
   "source": [
    "# Replace None with appropriate text\n",
    "\"\"\"\n",
    "Its hard to tell from the plot since we can see that rating of 5.0 and 3.0 and below have less reviews which makes it hard to tell is higher rating is associated with higher number of review\n",
    "\"\"\""
   ]
  },
  {
   "cell_type": "markdown",
   "metadata": {},
   "source": [
    "## 4. Create a Folium Map\n",
    "\n",
    "Make a map using Folium of the businesses you retrieved. Be sure to also add popups to the markers giving some basic information such as name, rating and price.\n",
    "\n",
    "You can center the map around the latitude and longitude of the first item in `full_dataset`."
   ]
  },
  {
   "cell_type": "code",
   "execution_count": 36,
   "metadata": {},
   "outputs": [
    {
     "data": {
      "text/html": [
       "<div style=\"width:100%;\"><div style=\"position:relative;width:100%;height:0;padding-bottom:60%;\"><span style=\"color:#565656\">Make this Notebook Trusted to load map: File -> Trust Notebook</span><iframe src=\"about:blank\" style=\"position:absolute;width:100%;height:100%;left:0;top:0;border:none !important;\" data-html=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 onload=\"this.contentDocument.open();this.contentDocument.write(atob(this.getAttribute('data-html')));this.contentDocument.close();\" allowfullscreen webkitallowfullscreen mozallowfullscreen></iframe></div></div>"
      ],
      "text/plain": [
       "<folium.folium.Map at 0x25ede77e580>"
      ]
     },
     "execution_count": 36,
     "metadata": {},
     "output_type": "execute_result"
    }
   ],
   "source": [
    "import folium\n",
    "\n",
    "# Set up center latitude and longitude\n",
    "center_lat = full_dataset[0]['latitude']\n",
    "center_long = full_dataset[0]['longitude']\n",
    "\n",
    "# Initialize map with center lat and long\n",
    "yelp_map = folium.Map([center_lat, center_long], zoom_start= 17)\n",
    "\n",
    "# Adjust this limit to see more or fewer businesses\n",
    "limit=40\n",
    "\n",
    "for business in full_dataset[:limit]:\n",
    "    # Extract information about business\n",
    "    lat = business['latitude']\n",
    "    long = business['longitude']\n",
    "    name = business['name']\n",
    "    rating = business['rating']\n",
    "    price = business['price']\n",
    "    details = \"{}\\nPrice: {} Rating:{}\".format(name,price,rating)\n",
    "    \n",
    "    # Create popup with relevant details\n",
    "    popup_text = \"Latitude: {}, Longitude: {}\".format(lat,long) + details\n",
    "    popup = folium.Popup(popup_text, parse_html = True)\n",
    "    \n",
    "    # Create marker with relevant lat/long and popup\n",
    "    marker = folium.Marker(location = [lat, long], popup = popup)\n",
    "    \n",
    "    marker.add_to(yelp_map)\n",
    "    \n",
    "yelp_map"
   ]
  },
  {
   "cell_type": "markdown",
   "metadata": {},
   "source": [
    "## Summary\n",
    "\n",
    "Nice work! In this lab, you've made multiple API calls to Yelp in order to paginate through a results set, performing some basic exploratory analysis and then creating a nice interactive map to display the results using Folium! Well done!"
   ]
  },
  {
   "cell_type": "code",
   "execution_count": null,
   "metadata": {},
   "outputs": [],
   "source": []
  }
 ],
 "metadata": {
  "kernelspec": {
   "display_name": "Python (learn-env)",
   "language": "python",
   "name": "learn-env"
  },
  "language_info": {
   "codemirror_mode": {
    "name": "ipython",
    "version": 3
   },
   "file_extension": ".py",
   "mimetype": "text/x-python",
   "name": "python",
   "nbconvert_exporter": "python",
   "pygments_lexer": "ipython3",
   "version": "3.8.5"
  },
  "toc": {
   "base_numbering": 1,
   "nav_menu": {},
   "number_sections": true,
   "sideBar": true,
   "skip_h1_title": false,
   "title_cell": "Table of Contents",
   "title_sidebar": "Contents",
   "toc_cell": false,
   "toc_position": {},
   "toc_section_display": true,
   "toc_window_display": false
  }
 },
 "nbformat": 4,
 "nbformat_minor": 2
}
